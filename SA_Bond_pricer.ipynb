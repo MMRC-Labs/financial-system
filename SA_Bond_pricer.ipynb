{
 "cells": [
  {
   "cell_type": "code",
   "execution_count": 1,
   "metadata": {},
   "outputs": [],
   "source": [
    "#SA Bond pricing formula\n",
    "\n",
    "#https://clientportal.jse.co.za/Content/JSEValuations%20Methodologies/Bond%20Pricing%20Formula%20-%20Specifications.pdf\n",
    "\n",
    "\n"
   ]
  },
  {
   "cell_type": "code",
   "execution_count": 2,
   "metadata": {},
   "outputs": [],
   "source": [
    "#Inputs\n",
    "\n",
    "Yeild_to_maturity = 7.5\n",
    "Settlement_date = '26 August 2005'\n",
    "Bond = 'R186'\n",
    "Maturity_date = '21 December 2026'\n",
    "Coupon = 10.5\n",
    "Coupon_dates = ['21 June','21 Dec']\n",
    "BcDates = ['11 June','11 December']\n",
    "Redemption_amount = 100\n",
    "PROUND = 5\n",
    "Nominal = 1.5e6\n",
    "\n"
   ]
  },
  {
   "cell_type": "code",
   "execution_count": 3,
   "metadata": {},
   "outputs": [
    {
     "data": {
      "text/plain": [
       "'21 Dec'"
      ]
     },
     "execution_count": 3,
     "metadata": {},
     "output_type": "execute_result"
    }
   ],
   "source": [
    "#Calculations\n",
    "\n",
    "Coupon_dates[1]"
   ]
  },
  {
   "cell_type": "code",
   "execution_count": 4,
   "metadata": {},
   "outputs": [],
   "source": [
    "#Date manipulation\n",
    "\n",
    "from dateutil import parser\n",
    "import datetime\n",
    "\n",
    "dt = parser.parse(Settlement_date,)\n",
    "dt.year\n",
    "M_b = parser.parse(Maturity_date,)\n",
    "\n",
    "\n",
    "def convert_date(date_string):\n",
    "    import QuantLib as ql\n",
    "    from dateutil import parser\n",
    "    \n",
    "    temp_date = parser.parse(date_string + \" \" + str(dt.year),)\n",
    "    temp_date = ql.Date(temp_date.day,temp_date.month,temp_date.year)\n",
    "    return temp_date\n",
    "\n"
   ]
  },
  {
   "cell_type": "code",
   "execution_count": 5,
   "metadata": {},
   "outputs": [
    {
     "name": "stdout",
     "output_type": "stream",
     "text": [
      "Is August 26th, 2005 a business day? Yes\n"
     ]
    }
   ],
   "source": [
    "#Calendars\n",
    "import QuantLib as ql\n",
    "\n",
    "date = ql.Date(dt.day,dt.month,dt.year)\n",
    "M_b = ql.Date(M_b.day,M_b.month,M_b.year)\n",
    "calendar = ql.SouthAfrica()\n",
    "is_business_day = calendar.isBusinessDay(date)\n",
    "print(f\"Is {date} a business day? {'Yes' if is_business_day else 'No'}\")"
   ]
  },
  {
   "cell_type": "code",
   "execution_count": 28,
   "metadata": {},
   "outputs": [
    {
     "data": {
      "text/plain": [
       "12"
      ]
     },
     "execution_count": 28,
     "metadata": {},
     "output_type": "execute_result"
    }
   ],
   "source": [
    "M_b.month()"
   ]
  },
  {
   "cell_type": "code",
   "execution_count": null,
   "metadata": {},
   "outputs": [],
   "source": []
  },
  {
   "cell_type": "code",
   "execution_count": 6,
   "metadata": {},
   "outputs": [
    {
     "name": "stdout",
     "output_type": "stream",
     "text": [
      "June 21st, 2005 December 21st, 2005\n"
     ]
    }
   ],
   "source": [
    "#Coupon dates\n",
    "Coupon_date_1 = parser.parse(Coupon_dates[0] + \" \" + str(dt.year),)\n",
    "Coupon_date_1 = ql.Date(Coupon_date_1.day,Coupon_date_1.month,Coupon_date_1.year)\n",
    "\n",
    "Coupon_date_2 = parser.parse(Coupon_dates[1] + \" \" + str(dt.year),)\n",
    "Coupon_date_2 = ql.Date(Coupon_date_2.day,Coupon_date_2.month,Coupon_date_2.year)\n",
    "\n",
    "def LCD(Date,Coupon_date_1,Coupon_date_2):\n",
    "    max_coupon_date = max(Coupon_date_1,Coupon_date_2)\n",
    "    min_coupon_date = min(Coupon_date_1,Coupon_date_2)\n",
    "    if (date >= min_coupon_date):\n",
    "            return min_coupon_date   \n",
    "    else :\n",
    "         return max_coupon_date \n",
    "\n",
    "# def NCD(Date,Coupon_date_1,Coupon_date_2):\n",
    "#     return(max(Date,Coupon_date_1,Coupon_date_2))\n",
    "\n",
    "\n",
    "last_cd = LCD(Date = date,Coupon_date_1=Coupon_date_1,Coupon_date_2=Coupon_date_2)\n",
    "# next_cd = NCD(Date = date,Coupon_date_1=Coupon_date_1,Coupon_date_2=Coupon_date_2)\n",
    "next_cd = calendar.advance(last_cd,ql.Period(6,ql.Months))\n",
    "print(last_cd,next_cd)"
   ]
  },
  {
   "cell_type": "code",
   "execution_count": 7,
   "metadata": {},
   "outputs": [],
   "source": [
    "#Books closed dates\n",
    "BCD_1 = convert_date(BcDates[0])\n",
    "BCD_2 = convert_date(BcDates[1])\n",
    "\n"
   ]
  },
  {
   "cell_type": "code",
   "execution_count": 8,
   "metadata": {},
   "outputs": [
    {
     "name": "stdout",
     "output_type": "stream",
     "text": [
      "42.0\n"
     ]
    }
   ],
   "source": [
    "#Number of remaining coupons\n",
    "\n",
    "N = round((M_b-next_cd)/(365.25/2),0)\n",
    "print(N)"
   ]
  },
  {
   "cell_type": "code",
   "execution_count": 9,
   "metadata": {},
   "outputs": [
    {
     "name": "stdout",
     "output_type": "stream",
     "text": [
      "December 11th, 2005\n"
     ]
    }
   ],
   "source": [
    "#Proximity\n",
    "prox_cpn_dt1 = date - Coupon_date_1\n",
    "prox_cpn_dt2 = date - Coupon_date_2\n",
    "\n",
    "bcd_use = next_cd -10\n",
    "print(bcd_use)"
   ]
  },
  {
   "cell_type": "code",
   "execution_count": 10,
   "metadata": {},
   "outputs": [],
   "source": [
    "#Cumex\n",
    "\n",
    "if (date < bcd_use):\n",
    "    cumex = 1\n",
    "else:\n",
    "    cumex = 0\n",
    "\n"
   ]
  },
  {
   "cell_type": "code",
   "execution_count": 11,
   "metadata": {},
   "outputs": [],
   "source": [
    "#DaysAccrued\n",
    "\n",
    "if (cumex ==1):\n",
    "    daysacc = (date - last_cd)\n",
    "else:\n",
    "    daysacc = (date - next_cd)\n"
   ]
  },
  {
   "cell_type": "code",
   "execution_count": 12,
   "metadata": {},
   "outputs": [],
   "source": [
    "#Coupon\n",
    "CPN = Coupon/2\n"
   ]
  },
  {
   "cell_type": "code",
   "execution_count": 13,
   "metadata": {},
   "outputs": [],
   "source": [
    "#Coupon payable on NCD\n",
    "cpn_at_ncd = CPN*cumex"
   ]
  },
  {
   "cell_type": "code",
   "execution_count": 14,
   "metadata": {},
   "outputs": [],
   "source": [
    "#Semi +- annual discount factor\n",
    "F = 1/(1+Yeild_to_maturity/200)"
   ]
  },
  {
   "cell_type": "code",
   "execution_count": 15,
   "metadata": {},
   "outputs": [],
   "source": [
    "#Broken period\n",
    "\n",
    "if (next_cd != M_b):\n",
    "    BP = (next_cd-date)/(next_cd - last_cd)\n",
    "else:\n",
    "    BP = (next_cd-date)/(365/2)\n",
    "    "
   ]
  },
  {
   "cell_type": "code",
   "execution_count": 16,
   "metadata": {},
   "outputs": [],
   "source": [
    "#Broken period discount factor\n",
    "if (next_cd != M_b):\n",
    "    BPF = F**BP\n",
    "else:\n",
    "    BPF = F/(F+BP*(1-F))\n",
    "    "
   ]
  },
  {
   "cell_type": "code",
   "execution_count": 17,
   "metadata": {},
   "outputs": [],
   "source": [
    "#Differentials\n",
    "#The first differential of BPF with respect to F, dBPF = ∂BPF/∂F\n",
    "\n",
    "if (next_cd != M_b):\n",
    "    dBPF = (BP*BPF)/F\n",
    "else:\n",
    "    dBPF = (BP*(BPF**2))/(F**2)"
   ]
  },
  {
   "cell_type": "code",
   "execution_count": 18,
   "metadata": {},
   "outputs": [],
   "source": [
    "#Differentials\n",
    "#The second differential of BPF with respect to F, d2BPF = ∂2BPF/∂F2\n",
    "\n",
    "if (next_cd != M_b):\n",
    "    d2BPF = dBPF*(BP-1)/F\n",
    "else:\n",
    "    d2BPF = dBPF*(BP*BPF-F)/(F**2)\n",
    "\n",
    "if (F!=1):\n",
    "    dCPN = CPN*(1-(N-N*F +1)*F**N)/((1-F)**2)\n",
    "else:\n",
    "    dCPN = CPN*N(N**2-1)/3\n",
    "\n",
    "dR = N*Redemption_amount*F**(N-1)\n",
    "\n",
    "d2R = N*(N-1)*Redemption_amount*(F**(N-2))\n",
    "\n",
    "if (F!=1):\n",
    "    d2CPN = CPN*(2-(N*(1-F)*(2+(N-1)*(1-F))+2*F)*(F**(N-1)))/(1-F)**3\n",
    "else:\n",
    "    d2CPN = CPN*N*(N**2-1)/3\n"
   ]
  },
  {
   "cell_type": "code",
   "execution_count": 19,
   "metadata": {},
   "outputs": [],
   "source": [
    "#Results\n",
    "\n",
    "#Unrounded and rounded accrued interest\n",
    "\n",
    "accrint = (daysacc*Coupon)/365\n",
    "raccrint = round(accrint,PROUND)"
   ]
  },
  {
   "cell_type": "code",
   "execution_count": 20,
   "metadata": {},
   "outputs": [],
   "source": [
    "#Unrounded all-in price\n",
    "if (F!=1):\n",
    "    AIP = BPF*(cpn_at_ncd+CPN*F*(1-F**N)/(1-F)+Redemption_amount*(F**N))\n",
    "else:\n",
    "    AIP = cpn_at_ncd + Coupon*N + Redemption_amount"
   ]
  },
  {
   "cell_type": "code",
   "execution_count": 21,
   "metadata": {},
   "outputs": [],
   "source": [
    "#Unrounded clean price\n",
    "\n",
    "CP = AIP - accrint"
   ]
  },
  {
   "cell_type": "code",
   "execution_count": 22,
   "metadata": {},
   "outputs": [],
   "source": [
    "#Rounded clean price\n",
    "Rounded_CP = round(CP,PROUND)"
   ]
  },
  {
   "cell_type": "code",
   "execution_count": 23,
   "metadata": {},
   "outputs": [],
   "source": [
    "#Rounded All-in-price\n",
    "\n",
    "Rounded_AIP = Rounded_CP + raccrint"
   ]
  },
  {
   "cell_type": "code",
   "execution_count": 24,
   "metadata": {},
   "outputs": [],
   "source": [
    "#Consideration\n",
    "\n",
    "#Interest consideration\n",
    "\n",
    "IntConsid = round(raccrint*Nominal/100,2)\n",
    "\n",
    "#All-in consideration\n",
    "\n",
    "All_in_Consid = round(Rounded_AIP*Nominal/100,2)\n",
    "\n",
    "#Clean consideration\n",
    "\n",
    "CleanConsid = All_in_Consid - IntConsid"
   ]
  },
  {
   "cell_type": "code",
   "execution_count": 25,
   "metadata": {},
   "outputs": [],
   "source": [
    "#Sensitivities\n",
    "\n",
    "dAIP = dBPF*AIP/BPF + BPF*(dCPN+dR)\n",
    "\n",
    "d2AIP = d2BPF*AIP/BPF+ dBPF*((BPF*dAIP-AIP*dBPF)/BPF**2 + dCPN + dR)+BPF*(d2CPN+d2R)\n",
    "\n",
    "Delta = -1*(F**2)*dAIP/200"
   ]
  },
  {
   "cell_type": "code",
   "execution_count": 26,
   "metadata": {},
   "outputs": [],
   "source": [
    "#Duration and complexity\n",
    "Dmod = -100*Delta/AIP\n",
    "Dur = Dmod/F\n",
    "Rand_per_point = Delta*100\n",
    "\n",
    "d2AIPy = (dAIP*(F**3)/2 + d2AIP*(F**4)/4)/10000\n",
    "\n",
    "Conv = (10000/AIP)*d2AIPy"
   ]
  }
 ],
 "metadata": {
  "kernelspec": {
   "display_name": "Python 3",
   "language": "python",
   "name": "python3"
  },
  "language_info": {
   "codemirror_mode": {
    "name": "ipython",
    "version": 3
   },
   "file_extension": ".py",
   "mimetype": "text/x-python",
   "name": "python",
   "nbconvert_exporter": "python",
   "pygments_lexer": "ipython3",
   "version": "3.11.2"
  }
 },
 "nbformat": 4,
 "nbformat_minor": 2
}
