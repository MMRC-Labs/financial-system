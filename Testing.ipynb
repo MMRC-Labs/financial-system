{
 "cells": [
  {
   "cell_type": "code",
   "execution_count": 45,
   "metadata": {},
   "outputs": [],
   "source": [
    "import os\n",
    "\n",
    "os.chdir('D:/MMRC_Labs/SA_Bond_Pricer')\n"
   ]
  },
  {
   "cell_type": "code",
   "execution_count": 46,
   "metadata": {},
   "outputs": [
    {
     "name": "stdout",
     "output_type": "stream",
     "text": [
      "Current Working Directory: D:\\MMRC_Labs\\SA_Bond_Pricer\n"
     ]
    }
   ],
   "source": [
    "current_directory = os.getcwd() \n",
    "print(\"Current Working Directory:\", current_directory)\n"
   ]
  },
  {
   "cell_type": "code",
   "execution_count": 47,
   "metadata": {},
   "outputs": [],
   "source": [
    "import Pricer_function as pricer"
   ]
  },
  {
   "cell_type": "code",
   "execution_count": 48,
   "metadata": {},
   "outputs": [
    {
     "data": {
      "text/plain": [
       "133.54709136472917"
      ]
     },
     "execution_count": 48,
     "metadata": {},
     "output_type": "execute_result"
    }
   ],
   "source": [
    "\n",
    "\n",
    "test = pricer.SA_Bond_pricer(Yeild=7.5, Settlement_Date='26 August 2005', Coupon= 10.5, \n",
    "                Maturity_Date='21 Dec 2026', Coupon_Dates= ['21 June','21 Dec'], \n",
    "                Books_Closed_Dates= ['11 June','11 December'], Redemption_Amount= 100, Nominal= 1.5e6,\n",
    "                Bond_name='R186'\n",
    "                )\n",
    "\n",
    "test[0]"
   ]
  },
  {
   "cell_type": "code",
   "execution_count": 49,
   "metadata": {},
   "outputs": [
    {
     "data": {
      "text/plain": [
       "133.54709136472917"
      ]
     },
     "execution_count": 49,
     "metadata": {},
     "output_type": "execute_result"
    }
   ],
   "source": [
    "test = pricer.SA_Bond_pricer(Yeild=7.5, Settlement_Date='26 August 2005', Coupon= 10.5, \n",
    "                Maturity_Date='21 Dec 2026', Coupon_Dates= ['21 June','21 Dec'], \n",
    "                Books_Closed_Dates= ['11 June','11 December'], Redemption_Amount= 100, Nominal= 1.5e6,\n",
    "                Bond_name='R186'\n",
    "                )\n",
    "\n",
    "test[0]"
   ]
  },
  {
   "cell_type": "code",
   "execution_count": 50,
   "metadata": {},
   "outputs": [
    {
     "ename": "IndexError",
     "evalue": "tuple index out of range",
     "output_type": "error",
     "traceback": [
      "\u001b[1;31m---------------------------------------------------------------------------\u001b[0m",
      "\u001b[1;31mIndexError\u001b[0m                                Traceback (most recent call last)",
      "Cell \u001b[1;32mIn[50], line 7\u001b[0m\n\u001b[0;32m      1\u001b[0m test1 \u001b[38;5;241m=\u001b[39m pricer\u001b[38;5;241m.\u001b[39mSA_Bond_pricer(Yeild\u001b[38;5;241m=\u001b[39m\u001b[38;5;241m10\u001b[39m, Settlement_Date\u001b[38;5;241m=\u001b[39m\u001b[38;5;124m'\u001b[39m\u001b[38;5;124m22 Nov 2017\u001b[39m\u001b[38;5;124m'\u001b[39m, Coupon\u001b[38;5;241m=\u001b[39m \u001b[38;5;241m8.875\u001b[39m, \n\u001b[0;32m      2\u001b[0m                 Maturity_Date\u001b[38;5;241m=\u001b[39m\u001b[38;5;124m'\u001b[39m\u001b[38;5;124m28 Feb 2035\u001b[39m\u001b[38;5;124m'\u001b[39m, Coupon_Dates\u001b[38;5;241m=\u001b[39m [\u001b[38;5;124m'\u001b[39m\u001b[38;5;124m28 Feb\u001b[39m\u001b[38;5;124m'\u001b[39m,\u001b[38;5;124m'\u001b[39m\u001b[38;5;124m31 Aug\u001b[39m\u001b[38;5;124m'\u001b[39m], \n\u001b[0;32m      3\u001b[0m                 Books_Closed_Dates\u001b[38;5;241m=\u001b[39m [\u001b[38;5;124m'\u001b[39m\u001b[38;5;124m18 Feb\u001b[39m\u001b[38;5;124m'\u001b[39m,\u001b[38;5;124m'\u001b[39m\u001b[38;5;124m21 Aug\u001b[39m\u001b[38;5;124m'\u001b[39m], Redemption_Amount\u001b[38;5;241m=\u001b[39m \u001b[38;5;241m100\u001b[39m, Nominal\u001b[38;5;241m=\u001b[39m \u001b[38;5;241m100\u001b[39m,\n\u001b[0;32m      4\u001b[0m                 Bond_name\u001b[38;5;241m=\u001b[39m\u001b[38;5;124m'\u001b[39m\u001b[38;5;124mR2035\u001b[39m\u001b[38;5;124m'\u001b[39m\n\u001b[0;32m      5\u001b[0m                 )\n\u001b[1;32m----> 7\u001b[0m \u001b[43mtest1\u001b[49m\u001b[43m[\u001b[49m\u001b[38;5;241;43m6\u001b[39;49m\u001b[43m]\u001b[49m\n",
      "\u001b[1;31mIndexError\u001b[0m: tuple index out of range"
     ]
    }
   ],
   "source": [
    "test1 = pricer.SA_Bond_pricer(Yeild=10, Settlement_Date='22 Nov 2017', Coupon= 8.875, \n",
    "                Maturity_Date='28 Feb 2035', Coupon_Dates= ['28 Feb','31 Aug'], \n",
    "                Books_Closed_Dates= ['18 Feb','21 Aug'], Redemption_Amount= 100, Nominal= 100,\n",
    "                Bond_name='R2035'\n",
    "                )\n",
    "\n",
    "test1[6]"
   ]
  }
 ],
 "metadata": {
  "kernelspec": {
   "display_name": "Python 3",
   "language": "python",
   "name": "python3"
  },
  "language_info": {
   "codemirror_mode": {
    "name": "ipython",
    "version": 3
   },
   "file_extension": ".py",
   "mimetype": "text/x-python",
   "name": "python",
   "nbconvert_exporter": "python",
   "pygments_lexer": "ipython3",
   "version": "3.11.2"
  }
 },
 "nbformat": 4,
 "nbformat_minor": 2
}
