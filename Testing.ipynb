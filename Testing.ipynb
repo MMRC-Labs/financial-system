{
 "cells": [
  {
   "cell_type": "code",
   "execution_count": 1,
   "metadata": {},
   "outputs": [],
   "source": [
    "import os\n",
    "\n",
    "os.chdir('D:/MMRC_Labs/Pricer_Repo')\n"
   ]
  },
  {
   "cell_type": "code",
   "execution_count": 2,
   "metadata": {},
   "outputs": [
    {
     "name": "stdout",
     "output_type": "stream",
     "text": [
      "Current Working Directory: D:\\MMRC_Labs\\Pricer_Repo\n"
     ]
    }
   ],
   "source": [
    "current_directory = os.getcwd() \n",
    "print(\"Current Working Directory:\", current_directory)\n"
   ]
  },
  {
   "cell_type": "code",
   "execution_count": 3,
   "metadata": {},
   "outputs": [],
   "source": [
    "import Pricer_function as pricer"
   ]
  },
  {
   "cell_type": "code",
   "execution_count": 4,
   "metadata": {},
   "outputs": [
    {
     "data": {
      "text/plain": [
       "133.55683417900116"
      ]
     },
     "execution_count": 4,
     "metadata": {},
     "output_type": "execute_result"
    }
   ],
   "source": [
    "\n",
    "\n",
    "test = pricer.SA_Bond_pricer(Yeild=7.5, Settlement_Date='26 August 2005', Coupon= 10.5, \n",
    "                Maturity_Date='21 Dec 2026', Coupon_Dates= ['21 June','21 Dec'], \n",
    "                Books_Closed_Dates= ['11 June','11 December'], Redemption_Amount= 100, Nominal= 1.5e6,\n",
    "                Bond_name='R186'\n",
    "                )\n",
    "\n",
    "test['AIP']"
   ]
  },
  {
   "cell_type": "code",
   "execution_count": 5,
   "metadata": {},
   "outputs": [
    {
     "data": {
      "text/plain": [
       "133.55683417900116"
      ]
     },
     "execution_count": 5,
     "metadata": {},
     "output_type": "execute_result"
    }
   ],
   "source": [
    "test = pricer.SA_Bond_pricer(Yeild=7.5, Settlement_Date='26 August 2005', Coupon= 10.5, \n",
    "                Maturity_Date='21 Dec 2026', Coupon_Dates= ['21 June','21 Dec'], \n",
    "                Books_Closed_Dates= ['11 June','11 December'], Redemption_Amount= 100, Nominal= 1.5e6,\n",
    "                Bond_name='R186'\n",
    "                )\n",
    "\n",
    "test['AIP']"
   ]
  },
  {
   "cell_type": "code",
   "execution_count": 6,
   "metadata": {},
   "outputs": [
    {
     "data": {
      "text/plain": [
       "Date(28,2,2018)"
      ]
     },
     "execution_count": 6,
     "metadata": {},
     "output_type": "execute_result"
    }
   ],
   "source": [
    "test1 = pricer.SA_Bond_pricer(Yeild=7.5, Settlement_Date='22 Nov 2017', Coupon= 8.875, \n",
    "                Maturity_Date='28 Feb 2035', Coupon_Dates= ['28 Feb','31 Aug'], \n",
    "                Books_Closed_Dates= ['18 Feb','21 Aug'], Redemption_Amount= 100, Nominal= 100,\n",
    "                Bond_name='R2035'\n",
    "                )\n",
    "\n",
    "test1['AIP']\n",
    "test1['DaysAcc']\n",
    "test1['Accrued_Int_rounded']\n",
    "test1['Last_CD']\n",
    "test1['Next_CD']\n",
    "# (test1['LCD'],test1['NCD'])"
   ]
  },
  {
   "cell_type": "code",
   "execution_count": 11,
   "metadata": {},
   "outputs": [
    {
     "data": {
      "text/plain": [
       "112.02160098483118"
      ]
     },
     "execution_count": 11,
     "metadata": {},
     "output_type": "execute_result"
    }
   ],
   "source": [
    "test2 =pricer.SA_Bond_pricer(Yeild=8,Settlement_Date='22 Nov 2022',Bond_name='R2040', Coupon=9.0,\n",
    "                           Maturity_Date='31 Jan 2040', Coupon_Dates=['31 July','31 Jan'],\n",
    "                           Books_Closed_Dates=['21 Jan','21 July'],Redemption_Amount=100,\n",
    "                           Nominal=100,PROUND=5)\n",
    "\n",
    "test2['AIP']"
   ]
  }
 ],
 "metadata": {
  "kernelspec": {
   "display_name": "Python 3",
   "language": "python",
   "name": "python3"
  },
  "language_info": {
   "codemirror_mode": {
    "name": "ipython",
    "version": 3
   },
   "file_extension": ".py",
   "mimetype": "text/x-python",
   "name": "python",
   "nbconvert_exporter": "python",
   "pygments_lexer": "ipython3",
   "version": "3.11.2"
  }
 },
 "nbformat": 4,
 "nbformat_minor": 2
}
